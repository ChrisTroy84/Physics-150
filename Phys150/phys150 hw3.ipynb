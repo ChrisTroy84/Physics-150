{
 "cells": [
  {
   "cell_type": "markdown",
   "metadata": {},
   "source": [
    "# Homework 3, Due on Sep. 21 (26pt)"
   ]
  },
  {
   "cell_type": "markdown",
   "metadata": {},
   "source": [
    "1. Explain the difference between mutability and immutability using coding examples. (5pts)\n",
    "\n",
    "---"
   ]
  },
  {
   "cell_type": "raw",
   "metadata": {},
   "source": [
    "immutability = Ex. tuple (cannot update = cannot add/remove elements)\n",
    "mutable = container, can update in place (remove and add elements) which means it will have the same id (list)"
   ]
  },
  {
   "cell_type": "raw",
   "metadata": {},
   "source": [
    "#list = mutable (updates)\n",
    "a=[1,'323',True]\n",
    "a[1] = 3\n",
    "print(a)"
   ]
  },
  {
   "cell_type": "markdown",
   "metadata": {},
   "source": [
    "2. In the following code, what is the difference between a1 and a2? (2pts)\n",
    "\n",
    "```python\n",
    "    a=[1,3,2]\n",
    "    a1=a\n",
    "    a2=a.copy()\n",
    "```\n",
    "---"
   ]
  },
  {
   "cell_type": "markdown",
   "metadata": {},
   "source": [
    "#list = mutable (updates)\n",
    "a=[1,'323',True]\n",
    "a[1] = 3\n",
    "print(a)"
   ]
  },
  {
   "cell_type": "raw",
   "metadata": {},
   "source": [
    "since a2 is a copy, it will be the same list (same elements) but have a different id.\n",
    "a1 is equal to a, so it will be the same list AND the same id"
   ]
  },
  {
   "cell_type": "markdown",
   "metadata": {},
   "source": [
    "3. Make a list containing three words. Then make a string from the list connecting the three words into a sentence. The code should work on __any__ list containing three words. (hint: you can use the join method of string type.) (3pts)\n",
    "\n",
    "_example_\n",
    "\n",
    "input: a=['Physics','is','fun!']\n",
    "\n",
    "output: 'Physics is fun!' \n",
    "\n",
    "---"
   ]
  },
  {
   "cell_type": "code",
   "execution_count": null,
   "metadata": {},
   "outputs": [
    {
     "ename": "",
     "evalue": "",
     "output_type": "error",
     "traceback": [
      "\u001b[1;31mRunning cells with 'Python 3.10.4 64-bit' requires ipykernel package.\n",
      "\u001b[1;31mRun the following command to install 'ipykernel' into the Python environment. \n",
      "\u001b[1;31mCommand: '/bin/python3 -m pip install ipykernel -U --user --force-reinstall'"
     ]
    }
   ],
   "source": [
    "x = ['We','love','Physics']\n",
    "dvdr = ' '\n",
    "x_str = dvdr.join(x)\n",
    "print(x_str)"
   ]
  },
  {
   "cell_type": "markdown",
   "metadata": {},
   "source": [
    "4. Make a list containing duplicated elements. Then create a new list that removes the duplicates. The code should work on __any__ list. (hint: set type can be helpful here) (4pts)\n",
    "\n",
    "&nbsp;&nbsp;&nbsp;&nbsp; _example_\n",
    "\n",
    "&nbsp;&nbsp;&nbsp;&nbsp;&nbsp;&nbsp; input: [1, 'Hello', 'Physics', 1, 'Physics, 20]\n",
    "\n",
    "&nbsp;&nbsp;&nbsp;&nbsp;&nbsp;&nbsp; output: [1, 'Hello', 'Physics', 20] (the order is not important)\n",
    "\n",
    "---"
   ]
  },
  {
   "cell_type": "code",
   "execution_count": 19,
   "metadata": {},
   "outputs": [
    {
     "name": "stdout",
     "output_type": "stream",
     "text": [
      "['My', 'is', 'Name', 'Chris']\n"
     ]
    }
   ],
   "source": [
    "x = ['Chris','My','Name','is','Chris','is']\n",
    "\n",
    "x = list(set(x))\n",
    "\n",
    "print(x)\n"
   ]
  },
  {
   "cell_type": "markdown",
   "metadata": {},
   "source": [
    "5. Make two sets. Print their union to the screen. (2pts)\n",
    "---"
   ]
  },
  {
   "cell_type": "code",
   "execution_count": 20,
   "metadata": {},
   "outputs": [
    {
     "name": "stdout",
     "output_type": "stream",
     "text": [
      "set union: {'programming', 'is', 'to', 'This', 'an', 'introduction', 'phys', '150'}\n"
     ]
    }
   ],
   "source": [
    "set_x = {'This','is','phys','150'}\n",
    "set_y = {'an','introduction','to','programming'}\n",
    "\n",
    "z_union = set_x | set_y\n",
    "\n",
    "print(\"set union:\", z_union)"
   ]
  },
  {
   "cell_type": "markdown",
   "metadata": {},
   "source": [
    "6. Make two lists. Check if they contain any common elememts. Print the result (True or False) to the screen. (hint: set type can be helpful here) (4pts)\n",
    "\n",
    "\n",
    "&nbsp;&nbsp;&nbsp;&nbsp; _example_\n",
    "\n",
    "&nbsp;&nbsp;&nbsp;&nbsp;&nbsp;&nbsp; 1. input: a=[1,3,9], b=[1,'hello','apple']\n",
    "\n",
    "&nbsp;&nbsp;&nbsp;&nbsp;&nbsp;&nbsp; output: True\n",
    "\n",
    "&nbsp;&nbsp;&nbsp;&nbsp;&nbsp;&nbsp; 2. input: a=[1,3,9], b=['strawberry', 10, 'orange']\n",
    "\n",
    "&nbsp;&nbsp;&nbsp;&nbsp;&nbsp;&nbsp; output: False\n",
    "\n",
    "---"
   ]
  },
  {
   "cell_type": "code",
   "execution_count": 21,
   "metadata": {},
   "outputs": [
    {
     "name": "stdout",
     "output_type": "stream",
     "text": [
      "True\n"
     ]
    }
   ],
   "source": [
    "x = ['1','This','is','Physics']\n",
    "y = ['My','name','chris','1','is']\n",
    "\n",
    "x = set(x)\n",
    "y = set(y)\n",
    "\n",
    "if len(x.intersection(y)) > 0:\n",
    "    print(True)\n",
    "else:\n",
    "    print(False)"
   ]
  },
  {
   "cell_type": "markdown",
   "metadata": {},
   "source": [
    "7. Make a container to organize the data of the 8 planets in the solar system. It should contain the name, the mass and the average distance to sun for each planet in the solar system. The data can be found on Wikipedia. Think about what is the best way to organize the data. Dictionary can be useful here. You can use a mix of different container types. Remember that a container can also have containers as its elements. (6pts)\n",
    "\n",
    "---"
   ]
  },
  {
   "cell_type": "code",
   "execution_count": 17,
   "metadata": {},
   "outputs": [
    {
     "name": "stdout",
     "output_type": "stream",
     "text": [
      "{'Mass': '17', 'Av_Dist': '2,780 million miles'}\n"
     ]
    }
   ],
   "source": [
    "Mercury = {}\n",
    "Mercury['Mass'] = '0.056'\n",
    "Mercury['Av_Dist'] = '33.7 million miles' \n",
    "\n",
    "Venus = {}\n",
    "Venus['Mass'] = '0.815'\n",
    "Venus['Av_Dist'] = '66.8 million miles'\n",
    "\n",
    "Earth = {}\n",
    "Earth['Mass'] = '1'\n",
    "Earth['Av_Dist'] = '93.3 million miles'\n",
    "\n",
    "Mars = {}\n",
    "Mars['Mass'] = '0.107'\n",
    "Mars['Av_Dist'] = '134.4 million miles'\n",
    "\n",
    "Jupiter = {}\n",
    "Jupiter['Mass'] = '318'\n",
    "Jupiter['Av_Dist'] = '460.7 million miles'\n",
    "\n",
    "Saturn = {}\n",
    "Saturn['Mass'] = '95'\n",
    "Saturn['Av_Dist'] = '915.2 million miles'\n",
    "\n",
    "Uranus = {}\n",
    "Uranus['Mass'] = '14'\n",
    "Uranus['Av_Dist'] = '1,829 million miles'\n",
    "\n",
    "Neptune = {}\n",
    "Neptune['Mass'] = '17'\n",
    "Neptune['Av_Dist'] = '2,780 million miles'\n",
    "\n",
    "planets = {'Mercury':Mercury,'Venus':Venus,'Earth':Earth,'Mars':Mars,\n",
    "           'Jupiter':Jupiter,'Saturn':Saturn,'Uranus':Uranus,'Neptune':Neptune}\n",
    "\n",
    "print(planets['Neptune'])"
   ]
  },
  {
   "cell_type": "code",
   "execution_count": null,
   "metadata": {},
   "outputs": [],
   "source": []
  }
 ],
 "metadata": {
  "kernelspec": {
   "display_name": "Python 3.10.4 64-bit",
   "language": "python",
   "name": "python3"
  },
  "language_info": {
   "codemirror_mode": {
    "name": "ipython",
    "version": 3
   },
   "file_extension": ".py",
   "mimetype": "text/x-python",
   "name": "python",
   "nbconvert_exporter": "python",
   "pygments_lexer": "ipython3",
   "version": "3.10.4"
  },
  "latex_envs": {
   "LaTeX_envs_menu_present": true,
   "autoclose": false,
   "autocomplete": true,
   "bibliofile": "biblio.bib",
   "cite_by": "apalike",
   "current_citInitial": 1,
   "eqLabelWithNumbers": true,
   "eqNumInitial": 1,
   "hotkeys": {
    "equation": "Ctrl-E",
    "itemize": "Ctrl-I"
   },
   "labels_anchors": false,
   "latex_user_defs": false,
   "report_style_numbering": false,
   "user_envs_cfg": false
  },
  "varInspector": {
   "cols": {
    "lenName": 16,
    "lenType": 16,
    "lenVar": 40
   },
   "kernels_config": {
    "python": {
     "delete_cmd_postfix": "",
     "delete_cmd_prefix": "del ",
     "library": "var_list.py",
     "varRefreshCmd": "print(var_dic_list())"
    },
    "r": {
     "delete_cmd_postfix": ") ",
     "delete_cmd_prefix": "rm(",
     "library": "var_list.r",
     "varRefreshCmd": "cat(var_dic_list()) "
    }
   },
   "types_to_exclude": [
    "module",
    "function",
    "builtin_function_or_method",
    "instance",
    "_Feature"
   ],
   "window_display": false
  },
  "vscode": {
   "interpreter": {
    "hash": "916dbcbb3f70747c44a77c7bcd40155683ae19c65e1c03b4aa3499c5328201f1"
   }
  }
 },
 "nbformat": 4,
 "nbformat_minor": 4
}
